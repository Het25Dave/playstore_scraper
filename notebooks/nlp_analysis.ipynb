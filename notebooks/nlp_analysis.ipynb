{
 "cells": [
  {
   "cell_type": "markdown",
   "id": "9c0e8a4a",
   "metadata": {},
   "source": [
    "# Importing necessities"
   ]
  },
  {
   "cell_type": "code",
   "execution_count": 10,
   "id": "44fa09ec",
   "metadata": {},
   "outputs": [
    {
     "name": "stdout",
     "output_type": "stream",
     "text": [
      "Modiles imported !\n"
     ]
    }
   ],
   "source": [
    "import pandas as pd\n",
    "import nltk\n",
    "from nltk.corpus import stopwords\n",
    "from nltk.tokenize import word_tokenize\n",
    "import re\n",
    "from transformers import pipeline \n",
    "from tqdm import tqdm\n",
    "\n",
    "print(\"Modiles imported !\")"
   ]
  },
  {
   "cell_type": "code",
   "execution_count": 4,
   "id": "532a58a6",
   "metadata": {},
   "outputs": [
    {
     "name": "stdout",
     "output_type": "stream",
     "text": [
      "Complete\n"
     ]
    }
   ],
   "source": [
    "zomato_data = pd.read_csv('D:/playstore_scraper/notebooks/zomato_data.csv')\n",
    "swiggy_data = pd.read_csv('D:/playstore_scraper/notebooks/swiggy_data.csv')\n",
    "# zomato_data.head(10)\n",
    "# swiggy_final_df.head(10)\n",
    "\n",
    "print(\"Complete\")"
   ]
  },
  {
   "cell_type": "markdown",
   "id": "865e35d0",
   "metadata": {},
   "source": [
    "# Data Cleaning (Stopwords Removal) "
   ]
  },
  {
   "cell_type": "code",
   "execution_count": 5,
   "id": "0a125fe2",
   "metadata": {},
   "outputs": [
    {
     "name": "stdout",
     "output_type": "stream",
     "text": [
      "Before : \n",
      "0    they are thieves. I placed an order today with...\n",
      "1                                nice app good service\n",
      "2                                                   👍👍\n",
      "3                                            excellent\n",
      "4    Zomato is a good app and food gets delivered q...\n",
      "5                                              great 👍\n",
      "6    my order was not delivered by delivery partner...\n",
      "7                                             Nice app\n",
      "8                                            great app\n",
      "9                                                    👍\n",
      "Name: review, dtype: object\n",
      "After : \n",
      "0    thieves placed order today account younger son...\n",
      "1                                nice app good service\n",
      "2                                                     \n",
      "3                                            excellent\n",
      "4          zomato good app food gets delivered quickly\n",
      "5                                                great\n",
      "6    order delivered delivery partner lost money or...\n",
      "7                                             nice app\n",
      "8                                            great app\n",
      "9                                                     \n",
      "Name: review_cleaned, dtype: object\n",
      "Before : \n",
      "0    I used one black one for almost a year. But th...\n",
      "1    worst customer support experience and also foo...\n",
      "2    customer service system is worst in this app a...\n",
      "3                                               superb\n",
      "4    literally the worst app I have ever used I ord...\n",
      "5                            sasta karo apna protected\n",
      "6    It's based on your luck if the order will be d...\n",
      "7    Worst customer service ever zomato is better i...\n",
      "8    not assigning the delivery partners on time an...\n",
      "9    never buy swiggy premium subscription it worth...\n",
      "Name: review, dtype: object\n",
      "After : \n",
      "0    used one black one almost year delivery proble...\n",
      "1    worst customer support experience also food de...\n",
      "2    customer service system worst app delivery tim...\n",
      "3                                               superb\n",
      "4    literally worst app ever used ordered brownie ...\n",
      "5                            sasta karo apna protected\n",
      "6    based luck order delivered time almost never time\n",
      "7    worst customer service ever zomato better cust...\n",
      "8    assigning delivery partners time customer supp...\n",
      "9    never buy swiggy premium subscription worth 0 ...\n",
      "Name: review_cleaned, dtype: object\n"
     ]
    }
   ],
   "source": [
    "eng_stopwords = set(stopwords.words('english'))\n",
    "\n",
    "hindi_stopwords = set([\n",
    "    'के', 'का', 'एक', 'में', 'की', 'है', 'यह', 'और', 'से', 'हैं', 'को', 'पर',\n",
    "    'इस', 'होता', 'कि', 'जो', 'कर', 'मे', 'गया', 'करने', 'किया', 'लिये', 'अपने',\n",
    "    'ने', 'बनी', 'नहीं', 'तो', 'ही', 'या', 'एवं', 'दिया', 'हो', 'इसका', 'था',\n",
    "    'द्वारा', 'हुआ', 'तक', 'साथ', 'करना', 'वाले', 'बाद', 'लिए', 'आप', 'कुछ',\n",
    "    'सकते', 'किसी', 'ये', 'इसके', 'सबसे', 'इसमें', 'थे', 'दो', 'होने', 'वह',\n",
    "    'वे', 'करते', 'बहुत', 'कहा', 'वर', 'कई', 'कम', 'करें', 'अभी', 'अगर', 'नहीं',\n",
    "    'जब', 'होती', 'भी', 'मैं', 'हम', 'तुम', 'उसका', 'यहाँ', 'वहाँ', 'क्या',\n",
    "    'दूसरे', 'इसे', 'उन्हें', 'जैसे', 'सकता', 'इसी', 'अपनी', 'उनके', 'हुई',\n",
    "    'वर्ग', 'जिसका', 'जिसकी', 'जिसके', 'निकाल', 'अंदर', 'जितना'\n",
    "])\n",
    "\n",
    "combined_stopwords = eng_stopwords.union(hindi_stopwords)\n",
    "\n",
    "def remove_stpwords(text):\n",
    "\n",
    "    if pd.isna(text) or text == '':\n",
    "        return ''\n",
    "    \n",
    "    text = text.lower()\n",
    "\n",
    "    tokens = word_tokenize(text)\n",
    "\n",
    "    filtered_tokens = [ \n",
    "        word for word in tokens\n",
    "        if word not in combined_stopwords and word.isalnum()\n",
    "    ]\n",
    "    \n",
    "    return ' '.join(filtered_tokens)\n",
    "\n",
    "zomato_data['review_cleaned'] = zomato_data['review'].apply(remove_stpwords)\n",
    "swiggy_data['review_cleaned'] = swiggy_data['review'].apply(remove_stpwords)\n",
    "\n",
    "print('Before : ')\n",
    "print(zomato_data['review'].head(10))\n",
    "print('After : ')\n",
    "print(zomato_data['review_cleaned'].head(10))\n",
    "\n",
    "print('Before : ')\n",
    "print(swiggy_data['review'].head(10))\n",
    "print('After : ')\n",
    "print(swiggy_data['review_cleaned'].head(10))\n",
    "\n"
   ]
  },
  {
   "cell_type": "code",
   "execution_count": 6,
   "id": "bb5e405d",
   "metadata": {},
   "outputs": [
    {
     "name": "stdout",
     "output_type": "stream",
     "text": [
      "Done !!\n"
     ]
    }
   ],
   "source": [
    "zomato_data.to_csv('final_zomato.csv', index=False)\n",
    "swiggy_data.to_csv('final_swiggy.csv', index=False)\n",
    "\n",
    "print('Done !!')"
   ]
  },
  {
   "cell_type": "code",
   "execution_count": 9,
   "id": "5f52dbd0",
   "metadata": {},
   "outputs": [
    {
     "name": "stdout",
     "output_type": "stream",
     "text": [
      "Zomato Data: \n",
      "         date       user_name  \\\n",
      "0  2025-09-25     Nihal Mehta   \n",
      "1  2025-09-21    Bhumit Kyada   \n",
      "2  2025-09-14     Bharat Kale   \n",
      "3  2025-09-27   A Google user   \n",
      "4  2025-09-13      Gourab Das   \n",
      "5  2025-09-18  Bhavana S Akki   \n",
      "6  2025-09-28        Himanshu   \n",
      "7  2025-09-01    mr shoaib007   \n",
      "8  2025-09-20    Uday Chauhan   \n",
      "9  2025-09-11              HB   \n",
      "\n",
      "                                              review  score app_version  \\\n",
      "0                                       I love youll      5      10.1.1   \n",
      "1  food was costly and quality was too bad Sw!ggy...      1      12.3.7   \n",
      "2  I've cancelled my order within 10mnts.there is...      1      13.1.2   \n",
      "3                                        No response      5      13.2.0   \n",
      "4        platform fee 12.50 rs!! I rather use Swiggy      1      13.2.1   \n",
      "5                I am very much happy with this app❤      5      13.2.4   \n",
      "6  very fast delivery, great food and best thing ...      5      13.2.7   \n",
      "7                     worst app and the service also      1      13.3.7   \n",
      "8  I'm now irritating with this app time taken is...      1      13.3.8   \n",
      "9                     good work for lazy peoples..😁😁      5      13.4.6   \n",
      "\n",
      "                                      review_cleaned  \n",
      "0                                         love youll  \n",
      "1  food costly quality bad sw ggy thousand time b...  \n",
      "2  cancelled order within refund like money snatc...  \n",
      "3                                           response  \n",
      "4                  platform fee rs rather use swiggy  \n",
      "5                                         much happy  \n",
      "6  fast delivery great food best thing first 5 or...  \n",
      "7                             worst app service also  \n",
      "8  irritating app time taken much show 20 minutes...  \n",
      "9                             good work lazy peoples  \n",
      "Swiggy Data: \n",
      "         date          user_name  \\\n",
      "0  2025-09-15  SHAHANA SIVAKUMAR   \n",
      "1  2025-09-07   Ananthan Ashokan   \n",
      "2  2025-09-12      A Google user   \n",
      "3  2025-09-27       manju juliet   \n",
      "4  2025-09-07           kashmira   \n",
      "5  2025-09-17  DIBYENDU ACHARJEE   \n",
      "6  2025-09-20     Shakti S Panda   \n",
      "7  2025-09-05    Rajdeep Sindhva   \n",
      "8  2025-09-15       Rajesh Kumar   \n",
      "9  2025-09-28  Nagashravya Raghu   \n",
      "\n",
      "                                              review  score app_version  \\\n",
      "0                                           good job      5      2.3.11   \n",
      "1  app is superb uber eat is charging 10 rs for d...      4      2.3.12   \n",
      "2                               My First Love Swiggy      5      2.3.19   \n",
      "3  I never seen such a branded app/ service behav...      1      2.3.20   \n",
      "4  service getting worse as days go by. worst cus...      1      2.3.22   \n",
      "5  please don't download this app and don't Pay o...      1       2.3.8   \n",
      "6  New policy of no refund on missing items is a ...      1       2.3.8   \n",
      "7              Payment fails when we add debit card.      3      3.10.0   \n",
      "8  bahut hi ghatiya app hai WORUST Aap mai to Zin...      1      3.10.0   \n",
      "9  DON'T USE THIS APP worst app ever, they take f...      1      3.12.0   \n",
      "\n",
      "                                      review_cleaned  \n",
      "0                                           good job  \n",
      "1  app superb uber eat charging 10 rs delivery u ...  \n",
      "2                                  first love swiggy  \n",
      "3  never seen branded service behaves low due rec...  \n",
      "4  service getting worse days go worst customer s...  \n",
      "5  please download app pay online fraud app pleas...  \n",
      "6  new policy refund missing items total scam wan...  \n",
      "7                       payment fails add debit card  \n",
      "8  bahut hi ghatiya app hai worust aap mai zindag...  \n",
      "9  use app worst app ever take full cancellation ...  \n"
     ]
    }
   ],
   "source": [
    "zomato_data = zomato_data.sort_values(by = 'app_version', ascending = True)\n",
    "zomato_data = zomato_data.reset_index(drop = True)\n",
    "\n",
    "swiggy_data = swiggy_data.sort_values(by = 'app_version', ascending = True)\n",
    "swiggy_data = swiggy_data.reset_index(drop = True )\n",
    "\n",
    "print('Zomato Data: ')\n",
    "print(zomato_data.head(10))\n",
    "\n",
    "print('Swiggy Data: ')\n",
    "print(swiggy_data.head(10))"
   ]
  },
  {
   "cell_type": "markdown",
   "id": "0862f852",
   "metadata": {},
   "source": [
    "# Semtiment Analysis"
   ]
  },
  {
   "cell_type": "code",
   "execution_count": 12,
   "id": "ef3f0ef4",
   "metadata": {},
   "outputs": [
    {
     "data": {
      "application/vnd.jupyter.widget-view+json": {
       "model_id": "a35d668dff11408daa817bd8e15c0e63",
       "version_major": 2,
       "version_minor": 0
      },
      "text/plain": [
       "config.json:   0%|          | 0.00/851 [00:00<?, ?B/s]"
      ]
     },
     "metadata": {},
     "output_type": "display_data"
    },
    {
     "name": "stderr",
     "output_type": "stream",
     "text": [
      "d:\\playstore_scraper\\venv\\Lib\\site-packages\\huggingface_hub\\file_download.py:143: UserWarning: `huggingface_hub` cache-system uses symlinks by default to efficiently store duplicated files but your machine does not support them in C:\\Users\\Het\\.cache\\huggingface\\hub\\models--tabularisai--multilingual-sentiment-analysis. Caching files will still work but in a degraded version that might require more space on your disk. This warning can be disabled by setting the `HF_HUB_DISABLE_SYMLINKS_WARNING` environment variable. For more details, see https://huggingface.co/docs/huggingface_hub/how-to-cache#limitations.\n",
      "To support symlinks on Windows, you either need to activate Developer Mode or to run Python as an administrator. In order to activate developer mode, see this article: https://docs.microsoft.com/en-us/windows/apps/get-started/enable-your-device-for-development\n",
      "  warnings.warn(message)\n",
      "Xet Storage is enabled for this repo, but the 'hf_xet' package is not installed. Falling back to regular HTTP download. For better performance, install the package with: `pip install huggingface_hub[hf_xet]` or `pip install hf_xet`\n"
     ]
    },
    {
     "data": {
      "application/vnd.jupyter.widget-view+json": {
       "model_id": "b136ef3732594251b8f098060f81a3d7",
       "version_major": 2,
       "version_minor": 0
      },
      "text/plain": [
       "model.safetensors:   0%|          | 0.00/541M [00:00<?, ?B/s]"
      ]
     },
     "metadata": {},
     "output_type": "display_data"
    },
    {
     "data": {
      "application/vnd.jupyter.widget-view+json": {
       "model_id": "64236c5e784941b0b925379cc60e9f38",
       "version_major": 2,
       "version_minor": 0
      },
      "text/plain": [
       "tokenizer_config.json: 0.00B [00:00, ?B/s]"
      ]
     },
     "metadata": {},
     "output_type": "display_data"
    },
    {
     "data": {
      "application/vnd.jupyter.widget-view+json": {
       "model_id": "d15838c6350a410ba1db78999466f233",
       "version_major": 2,
       "version_minor": 0
      },
      "text/plain": [
       "vocab.txt: 0.00B [00:00, ?B/s]"
      ]
     },
     "metadata": {},
     "output_type": "display_data"
    },
    {
     "data": {
      "application/vnd.jupyter.widget-view+json": {
       "model_id": "e5eef2a1087e4516a687c5d4e753de14",
       "version_major": 2,
       "version_minor": 0
      },
      "text/plain": [
       "tokenizer.json: 0.00B [00:00, ?B/s]"
      ]
     },
     "metadata": {},
     "output_type": "display_data"
    },
    {
     "data": {
      "application/vnd.jupyter.widget-view+json": {
       "model_id": "8a3d445a25334995b046c69cea56b203",
       "version_major": 2,
       "version_minor": 0
      },
      "text/plain": [
       "special_tokens_map.json:   0%|          | 0.00/125 [00:00<?, ?B/s]"
      ]
     },
     "metadata": {},
     "output_type": "display_data"
    },
    {
     "name": "stderr",
     "output_type": "stream",
     "text": [
      "Device set to use cpu\n"
     ]
    },
    {
     "name": "stdout",
     "output_type": "stream",
     "text": [
      "Analyzing multilingual sentiments...\n"
     ]
    },
    {
     "name": "stderr",
     "output_type": "stream",
     "text": [
      "100%|██████████| 510/510 [05:26<00:00,  1.56it/s]"
     ]
    },
    {
     "name": "stdout",
     "output_type": "stream",
     "text": [
      "\n",
      "Results:\n",
      "                                              review sentiment_label  \\\n",
      "0                                       I love youll        Positive   \n",
      "1  food was costly and quality was too bad Sw!ggy...   Very Negative   \n",
      "2  I've cancelled my order within 10mnts.there is...        Negative   \n",
      "3                                        No response         Neutral   \n",
      "4        platform fee 12.50 rs!! I rather use Swiggy        Negative   \n",
      "5                I am very much happy with this app❤        Positive   \n",
      "6  very fast delivery, great food and best thing ...        Positive   \n",
      "7                     worst app and the service also   Very Negative   \n",
      "8  I'm now irritating with this app time taken is...        Negative   \n",
      "9                     good work for lazy peoples..😁😁        Positive   \n",
      "\n",
      "   sentiment_score  \n",
      "0         0.431561  \n",
      "1         0.558284  \n",
      "2         0.650167  \n",
      "3         0.838287  \n",
      "4         0.643328  \n",
      "5         0.899562  \n",
      "6         0.582522  \n",
      "7         0.731763  \n",
      "8         0.466603  \n",
      "9         0.906601  \n"
     ]
    },
    {
     "name": "stderr",
     "output_type": "stream",
     "text": [
      "\n"
     ]
    }
   ],
   "source": [
    "sentiment_pipeline = pipeline(\n",
    "    \"sentiment-analysis\",\n",
    "    model = \"tabularisai/multilingual-sentiment-analysis\",\n",
    "    device = 0\n",
    ")\n",
    "\n",
    "def get_reviews(reviews, batch_size = 50):\n",
    "    sentiments = []\n",
    "\n",
    "    for i in tqdm(range(0, len(reviews), batch_size)):\n",
    "        batch = reviews[i:i+batch_size].tolist()\n",
    "        \n",
    "        try:\n",
    "            results = sentiment_pipeline(batch, truncation=True, max_length=512)\n",
    "            sentiments.extend(results)\n",
    "        except Exception as e:\n",
    "            print(f\"Error in batch {i}: {e}\")\n",
    "            sentiments.extend([{'label': 'NEUTRAL', 'score': 0.0}] * len(batch))\n",
    "    \n",
    "    return sentiments\n",
    "\n",
    "# Apply sentiment analysis\n",
    "print(\"Analyzing multilingual sentiments...\")\n",
    "sentiment_results = get_reviews(zomato_data['review_cleaned'])\n",
    "# Add to dataframe\n",
    "zomato_data['sentiment_label'] = [r['label'] for r in sentiment_results]\n",
    "zomato_data['sentiment_score'] = [r['score'] for r in sentiment_results]\n",
    "\n",
    "print(\"\\nResults:\")\n",
    "print(zomato_data[['review', 'sentiment_label', 'sentiment_score']].head(10))"
   ]
  },
  {
   "cell_type": "code",
   "execution_count": 13,
   "id": "6b57a330",
   "metadata": {},
   "outputs": [
    {
     "name": "stdout",
     "output_type": "stream",
     "text": [
      "Analyzing multilingual sentiments...\n"
     ]
    },
    {
     "name": "stderr",
     "output_type": "stream",
     "text": [
      "100%|██████████| 358/358 [03:40<00:00,  1.62it/s]"
     ]
    },
    {
     "name": "stdout",
     "output_type": "stream",
     "text": [
      "\n",
      "Results:\n",
      "                                              review sentiment_label  \\\n",
      "0                                           good job        Positive   \n",
      "1  app is superb uber eat is charging 10 rs for d...         Neutral   \n",
      "2                               My First Love Swiggy   Very Positive   \n",
      "3  I never seen such a branded app/ service behav...        Negative   \n",
      "4  service getting worse as days go by. worst cus...        Negative   \n",
      "5  please don't download this app and don't Pay o...         Neutral   \n",
      "6  New policy of no refund on missing items is a ...        Negative   \n",
      "7              Payment fails when we add debit card.        Negative   \n",
      "8  bahut hi ghatiya app hai WORUST Aap mai to Zin...   Very Negative   \n",
      "9  DON'T USE THIS APP worst app ever, they take f...   Very Negative   \n",
      "\n",
      "   sentiment_score  \n",
      "0         0.922594  \n",
      "1         0.553512  \n",
      "2         0.322402  \n",
      "3         0.537218  \n",
      "4         0.635275  \n",
      "5         0.530797  \n",
      "6         0.462618  \n",
      "7         0.475759  \n",
      "8         0.430577  \n",
      "9         0.756475  \n"
     ]
    },
    {
     "name": "stderr",
     "output_type": "stream",
     "text": [
      "\n"
     ]
    }
   ],
   "source": [
    "print(\"Analyzing multilingual sentiments...\")\n",
    "sentiment_results = get_reviews(swiggy_data['review_cleaned'])\n",
    "# Add to dataframe\n",
    "swiggy_data['sentiment_label'] = [r['label'] for r in sentiment_results]\n",
    "swiggy_data['sentiment_score'] = [r['score'] for r in sentiment_results]\n",
    "\n",
    "print(\"\\nResults:\")\n",
    "print(swiggy_data[['review', 'sentiment_label', 'sentiment_score']].head(10))"
   ]
  },
  {
   "cell_type": "code",
   "execution_count": 15,
   "id": "d0d21aa7",
   "metadata": {},
   "outputs": [
    {
     "name": "stdout",
     "output_type": "stream",
     "text": [
      "complete\n"
     ]
    }
   ],
   "source": [
    "zomato_data.to_csv('sentiment_zomato.csv', index=False)\n",
    "swiggy_data.to_csv('sentiment_swiggy.csv', index=False)\n",
    "\n",
    "print('complete')"
   ]
  },
  {
   "cell_type": "code",
   "execution_count": null,
   "id": "8ab17e29",
   "metadata": {},
   "outputs": [],
   "source": []
  }
 ],
 "metadata": {
  "kernelspec": {
   "display_name": "venv",
   "language": "python",
   "name": "python3"
  },
  "language_info": {
   "codemirror_mode": {
    "name": "ipython",
    "version": 3
   },
   "file_extension": ".py",
   "mimetype": "text/x-python",
   "name": "python",
   "nbconvert_exporter": "python",
   "pygments_lexer": "ipython3",
   "version": "3.12.0"
  }
 },
 "nbformat": 4,
 "nbformat_minor": 5
}
