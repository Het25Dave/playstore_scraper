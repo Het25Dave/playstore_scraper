{
 "cells": [
  {
   "cell_type": "code",
   "execution_count": 1,
   "id": "44fa09ec",
   "metadata": {},
   "outputs": [
    {
     "name": "stdout",
     "output_type": "stream",
     "text": [
      "Modiles imported !\n"
     ]
    }
   ],
   "source": [
    "import pandas as pd\n",
    "import nltk\n",
    "from nltk.corpus import stopwords\n",
    "from nltk.tokenize import word_tokenize\n",
    "import re\n",
    "\n",
    "print(\"Modiles imported !\")"
   ]
  },
  {
   "cell_type": "code",
   "execution_count": 2,
   "id": "532a58a6",
   "metadata": {},
   "outputs": [
    {
     "name": "stdout",
     "output_type": "stream",
     "text": [
      "Complete\n"
     ]
    }
   ],
   "source": [
    "zomato_data = pd.read_csv('D:/playstore_scraper/notebooks/zomato_data.csv')\n",
    "swiggy_data = pd.read_csv('D:/playstore_scraper/notebooks/swiggy_data.csv')\n",
    "# zomato_data.head(10)\n",
    "# swiggy_final_df.head(10)\n",
    "\n",
    "print(\"Complete\")"
   ]
  },
  {
   "cell_type": "code",
   "execution_count": 6,
   "id": "1b6a317f",
   "metadata": {},
   "outputs": [
    {
     "name": "stderr",
     "output_type": "stream",
     "text": [
      "[nltk_data] Downloading package stopwords to\n",
      "[nltk_data]     C:\\Users\\Het\\AppData\\Roaming\\nltk_data...\n",
      "[nltk_data]   Unzipping corpora\\stopwords.zip.\n",
      "[nltk_data] Downloading package punkt to\n",
      "[nltk_data]     C:\\Users\\Het\\AppData\\Roaming\\nltk_data...\n"
     ]
    },
    {
     "name": "stdout",
     "output_type": "stream",
     "text": [
      "Download Complete !\n"
     ]
    },
    {
     "name": "stderr",
     "output_type": "stream",
     "text": [
      "[nltk_data]   Unzipping tokenizers\\punkt.zip.\n"
     ]
    }
   ],
   "source": [
    "nltk.download('stopwords')\n",
    "nltk.download('punkt')\n",
    "print('Download Complete !')"
   ]
  },
  {
   "cell_type": "code",
   "execution_count": 6,
   "id": "0a125fe2",
   "metadata": {},
   "outputs": [
    {
     "name": "stdout",
     "output_type": "stream",
     "text": [
      "Before : \n",
      "0    they are thieves. I placed an order today with...\n",
      "1                                nice app good service\n",
      "2                                                   👍👍\n",
      "3                                            excellent\n",
      "4    Zomato is a good app and food gets delivered q...\n",
      "5                                              great 👍\n",
      "6    my order was not delivered by delivery partner...\n",
      "7                                             Nice app\n",
      "8                                            great app\n",
      "9                                                    👍\n",
      "Name: review, dtype: object\n",
      "After : \n",
      "0    thieves placed order today account younger son...\n",
      "1                                nice app good service\n",
      "2                                                     \n",
      "3                                            excellent\n",
      "4          zomato good app food gets delivered quickly\n",
      "5                                                great\n",
      "6    order delivered delivery partner lost money or...\n",
      "7                                             nice app\n",
      "8                                            great app\n",
      "9                                                     \n",
      "Name: review_cleaned, dtype: object\n",
      "Before : \n",
      "0    I used one black one for almost a year. But th...\n",
      "1    worst customer support experience and also foo...\n",
      "2    customer service system is worst in this app a...\n",
      "3                                               superb\n",
      "4    literally the worst app I have ever used I ord...\n",
      "5                            sasta karo apna protected\n",
      "6    It's based on your luck if the order will be d...\n",
      "7    Worst customer service ever zomato is better i...\n",
      "8    not assigning the delivery partners on time an...\n",
      "9    never buy swiggy premium subscription it worth...\n",
      "Name: review, dtype: object\n",
      "After : \n",
      "0    used one black one almost year delivery proble...\n",
      "1    worst customer support experience also food de...\n",
      "2    customer service system worst app delivery tim...\n",
      "3                                               superb\n",
      "4    literally worst app ever used ordered brownie ...\n",
      "5                            sasta karo apna protected\n",
      "6    based luck order delivered time almost never time\n",
      "7    worst customer service ever zomato better cust...\n",
      "8    assigning delivery partners time customer supp...\n",
      "9    never buy swiggy premium subscription worth 0 ...\n",
      "Name: review_cleaned, dtype: object\n"
     ]
    }
   ],
   "source": [
    "eng_stopwords = set(stopwords.words('english'))\n",
    "\n",
    "hindi_stopwords = set([\n",
    "    'के', 'का', 'एक', 'में', 'की', 'है', 'यह', 'और', 'से', 'हैं', 'को', 'पर',\n",
    "    'इस', 'होता', 'कि', 'जो', 'कर', 'मे', 'गया', 'करने', 'किया', 'लिये', 'अपने',\n",
    "    'ने', 'बनी', 'नहीं', 'तो', 'ही', 'या', 'एवं', 'दिया', 'हो', 'इसका', 'था',\n",
    "    'द्वारा', 'हुआ', 'तक', 'साथ', 'करना', 'वाले', 'बाद', 'लिए', 'आप', 'कुछ',\n",
    "    'सकते', 'किसी', 'ये', 'इसके', 'सबसे', 'इसमें', 'थे', 'दो', 'होने', 'वह',\n",
    "    'वे', 'करते', 'बहुत', 'कहा', 'वर', 'कई', 'कम', 'करें', 'अभी', 'अगर', 'नहीं',\n",
    "    'जब', 'होती', 'भी', 'मैं', 'हम', 'तुम', 'उसका', 'यहाँ', 'वहाँ', 'क्या',\n",
    "    'दूसरे', 'इसे', 'उन्हें', 'जैसे', 'सकता', 'इसी', 'अपनी', 'उनके', 'हुई',\n",
    "    'वर्ग', 'जिसका', 'जिसकी', 'जिसके', 'निकाल', 'अंदर', 'जितना'\n",
    "])\n",
    "\n",
    "combined_stopwords = eng_stopwords.union(hindi_stopwords)\n",
    "\n",
    "def remove_stpwords(text):\n",
    "\n",
    "    if pd.isna(text) or text == '':\n",
    "        return ''\n",
    "    \n",
    "    text = text.lower()\n",
    "\n",
    "    tokens = word_tokenize(text)\n",
    "\n",
    "    filtered_tokens = [ \n",
    "        word for word in tokens\n",
    "        if word not in combined_stopwords and word.isalnum()\n",
    "    ]\n",
    "    \n",
    "    return ' '.join(filtered_tokens)\n",
    "\n",
    "zomato_data['review_cleaned'] = zomato_data['review'].apply(remove_stpwords)\n",
    "swiggy_data['review_cleaned'] = swiggy_data['review'].apply(remove_stpwords)\n",
    "\n",
    "print('Before : ')\n",
    "print(zomato_data['review'].head(10))\n",
    "print('After : ')\n",
    "print(zomato_data['review_cleaned'].head(10))\n",
    "\n",
    "print('Before : ')\n",
    "print(swiggy_data['review'].head(10))\n",
    "print('After : ')\n",
    "print(swiggy_data['review_cleaned'].head(10))\n",
    "\n"
   ]
  },
  {
   "cell_type": "code",
   "execution_count": 7,
   "id": "bb5e405d",
   "metadata": {},
   "outputs": [
    {
     "name": "stdout",
     "output_type": "stream",
     "text": [
      "Done !!\n"
     ]
    }
   ],
   "source": [
    "zomato_data.to_csv('final_zomato.csv', index=False)\n",
    "swiggy_data.to_csv('final_swiggy.csv', index=False)\n",
    "\n",
    "print('Done !!')"
   ]
  },
  {
   "cell_type": "code",
   "execution_count": null,
   "id": "edc87ffc",
   "metadata": {},
   "outputs": [],
   "source": []
  }
 ],
 "metadata": {
  "kernelspec": {
   "display_name": "venv",
   "language": "python",
   "name": "python3"
  },
  "language_info": {
   "codemirror_mode": {
    "name": "ipython",
    "version": 3
   },
   "file_extension": ".py",
   "mimetype": "text/x-python",
   "name": "python",
   "nbconvert_exporter": "python",
   "pygments_lexer": "ipython3",
   "version": "3.12.0"
  }
 },
 "nbformat": 4,
 "nbformat_minor": 5
}
